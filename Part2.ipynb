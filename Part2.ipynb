{
 "cells": [
  {
   "cell_type": "code",
   "execution_count": 1,
   "metadata": {
    "executionInfo": {
     "elapsed": 428,
     "status": "ok",
     "timestamp": 1623236061470,
     "user": {
      "displayName": "黃侯弼",
      "photoUrl": "",
      "userId": "02394864078410571973"
     },
     "user_tz": -480
    },
    "id": "iVhpbtg0DuC5"
   },
   "outputs": [],
   "source": [
    "from os import listdir\n",
    "from os.path import isdir, join\n",
    "from tensorflow.keras import layers, models\n",
    "import numpy as np"
   ]
  },
  {
   "cell_type": "code",
   "execution_count": 2,
   "metadata": {
    "colab": {
     "base_uri": "https://localhost:8080/"
    },
    "executionInfo": {
     "elapsed": 5,
     "status": "ok",
     "timestamp": 1623236062585,
     "user": {
      "displayName": "黃侯弼",
      "photoUrl": "",
      "userId": "02394864078410571973"
     },
     "user_tz": -480
    },
    "id": "MZI1urklDuC6",
    "outputId": "9344224f-90ed-4d09-80e4-efd8c4bb7cac"
   },
   "outputs": [
    {
     "name": "stdout",
     "output_type": "stream",
     "text": [
      "['的一個', '啦', '的那個', '那那個', 'ㄟ', '著', '吼', '嗯', '阿', 'ㄏㄧㄡ', '那', '的這個']\n"
     ]
    }
   ],
   "source": [
    "# Create list of all targets (minus background noise)\n",
    "dataset_path = '/Users/Willie/recording'\n",
    "all_targets = all_targets = [name for name in listdir(dataset_path) if isdir(join(dataset_path, name))]\n",
    "print(all_targets)"
   ]
  },
  {
   "cell_type": "code",
   "execution_count": 3,
   "metadata": {
    "executionInfo": {
     "elapsed": 301,
     "status": "ok",
     "timestamp": 1623236063859,
     "user": {
      "displayName": "黃侯弼",
      "photoUrl": "",
      "userId": "02394864078410571973"
     },
     "user_tz": -480
    },
    "id": "WgAcVkOeDuC6"
   },
   "outputs": [],
   "source": [
    "# Settings\n",
    "feature_sets_path = './'\n",
    "feature_sets_filename = '/Users/Willie/Part1.npz'\n",
    "#model_filename = 'wake_word_stop_model.h5'\n",
    "#wake_word = '嗯'"
   ]
  },
  {
   "cell_type": "code",
   "execution_count": 4,
   "metadata": {
    "colab": {
     "base_uri": "https://localhost:8080/"
    },
    "executionInfo": {
     "elapsed": 458,
     "status": "ok",
     "timestamp": 1623236065288,
     "user": {
      "displayName": "黃侯弼",
      "photoUrl": "",
      "userId": "02394864078410571973"
     },
     "user_tz": -480
    },
    "id": "rJUTXuiVDuC7",
    "outputId": "4a7c5275-1bcb-4f85-dd65-18bb4e2630c9"
   },
   "outputs": [
    {
     "name": "stdout",
     "output_type": "stream",
     "text": [
      "['x_train', 'y_train', 'x_val', 'y_val', 'x_test', 'y_test']\n"
     ]
    }
   ],
   "source": [
    "# Load feature sets\n",
    "feature_sets = np.load(join(feature_sets_path, feature_sets_filename))\n",
    "print(feature_sets.files)"
   ]
  },
  {
   "cell_type": "code",
   "execution_count": 5,
   "metadata": {
    "colab": {
     "base_uri": "https://localhost:8080/"
    },
    "executionInfo": {
     "elapsed": 3,
     "status": "ok",
     "timestamp": 1623236066162,
     "user": {
      "displayName": "黃侯弼",
      "photoUrl": "",
      "userId": "02394864078410571973"
     },
     "user_tz": -480
    },
    "id": "0MTc8hMZDuC7",
    "outputId": "287b9ce7-b503-472c-dc22-1cf446a74c77"
   },
   "outputs": [
    {
     "name": "stdout",
     "output_type": "stream",
     "text": [
      "[ 5.  5. 10.  7.  5. 11.  4.  2. 10.  8.  3.  7.  3.  1.  8.  3.  3.  4.\n",
      " 10.  9.  7.  7.  2. 11.  5. 11.  4. 10.  0.  7. 11.  7.  9.  1.  6.  5.]\n",
      "[ 2.  5.  9.  2.  4.  2.  6.  1.  2.  8.  3.  4.  2.  1.  8. 11.  5.  3.\n",
      "  0.  3. 11.  4.  1.  7.  7.  6.  3.  5.  9.  8.  9.  2.  5.  3. 10.  7.\n",
      "  6.  8.  0.  4.  2.  9.  0.  4. 11.  7.  6.  1.  9.  8.  3.  2.  5.  7.\n",
      "  7.  4. 11.  9.  5. 10.  4.  9.  1.  8.  1.  4.  7.  1.  0.  6.  6. 11.\n",
      "  2.  8.  8.  4.  5.  3.  4. 11.  1.  6. 11. 11.  9.  3.  5.  1.  2.  8.\n",
      " 10. 11.  4.  2.  0.  1.  0.  0.  0.  4.  3. 11.  5.  1. 10.  0.  1. 11.\n",
      "  3.  6.  2.  0. 10.  9.  8.  2. 11.  5.  6.  4.  6.  9.  6.  5.  4.  4.\n",
      " 10.  8.  3.  1.  4.  0.  5.  1.  5.  0. 10.  5.  2.  5. 10.  1.  9.  5.\n",
      "  1.  4.  5.  4.  7. 10.  2. 11.  4.  2. 10.  0.  2.  3.  7.  7.  3. 10.\n",
      "  1.  6.  7.  4.  1. 11. 10.  0.  8.  3.  9.  2.  3.  4.  3.  4.  5. 10.\n",
      "  1.  6.  0. 11.  2.  8.  8.  1.  0. 10.  8.  3.  4.  7.  7.  9.  1.  6.\n",
      " 11. 10.  1.  8.  3.  5. 10. 10.  2.  9.  7.  7.  7.  6.  6.  6. 11.  7.\n",
      " 11.  9.  2.  2.  2. 10. 11. 10.  9.  0.  6. 11.  4.  0.  9.  6.  1.  8.\n",
      "  7.  1.  7.  8. 10.  9.  2.  4. 11.  5.  0.  1.  9.  3.  2.  6.  9. 10.\n",
      "  6.  8.  3.  7.  4.  0.  9.  0.  2.  7.  0.  6.  1.  0.  2.  7.  0. 11.\n",
      "  9.  7.  3.  7.  5.  6.  9.  5. 10.  3. 11.  0.  3.  3.  5.  6.  0. 11.]\n",
      "[11.  5.  8. 10.  9.  8. 11.  9.  0.  8.  5.  9.  0.  6.  2.  6.  8.  1.\n",
      "  8.  9.  8. 10.  3.  8. 10.  6.  8.  4.  6.  1.  9.  3. 10.  0.  6.  8.]\n"
     ]
    }
   ],
   "source": [
    "# Assign feature sets\n",
    "x_train = feature_sets['x_train']\n",
    "y_train = feature_sets['y_train']\n",
    "x_val = feature_sets['x_val']\n",
    "y_val = feature_sets['y_val']\n",
    "x_test = feature_sets['x_test']\n",
    "y_test = feature_sets['y_test']\n",
    "print(y_test)\n",
    "print(y_train)\n",
    "print(y_val)"
   ]
  },
  {
   "cell_type": "code",
   "execution_count": 6,
   "metadata": {
    "colab": {
     "base_uri": "https://localhost:8080/"
    },
    "executionInfo": {
     "elapsed": 262,
     "status": "ok",
     "timestamp": 1623236068434,
     "user": {
      "displayName": "黃侯弼",
      "photoUrl": "",
      "userId": "02394864078410571973"
     },
     "user_tz": -480
    },
    "id": "r2XzOXwdDuC8",
    "outputId": "6d00862e-4d37-415c-b854-22b4cdd10698"
   },
   "outputs": [
    {
     "name": "stdout",
     "output_type": "stream",
     "text": [
      "(288, 16, 16)\n",
      "(36, 16, 16)\n",
      "(36, 16, 16)\n"
     ]
    }
   ],
   "source": [
    "# Look at tensor dimensions\n",
    "print(x_train.shape)\n",
    "print(x_val.shape)\n",
    "print(x_test.shape)"
   ]
  },
  {
   "cell_type": "code",
   "execution_count": 7,
   "metadata": {
    "colab": {
     "base_uri": "https://localhost:8080/"
    },
    "executionInfo": {
     "elapsed": 439,
     "status": "ok",
     "timestamp": 1623236069774,
     "user": {
      "displayName": "黃侯弼",
      "photoUrl": "",
      "userId": "02394864078410571973"
     },
     "user_tz": -480
    },
    "id": "N-l9zl-GDuC9",
    "outputId": "fd2762fb-1345-41d2-8108-985fcd157a52"
   },
   "outputs": [
    {
     "name": "stdout",
     "output_type": "stream",
     "text": [
      "[11.  5.  8. 10.  9.  8. 11.  9.  0.  8.  5.  9.  0.  6.  2.  6.  8.  1.\n",
      "  8.  9.  8. 10.  3.  8. 10.  6.  8.  4.  6.  1.  9.  3. 10.  0.  6.  8.]\n"
     ]
    }
   ],
   "source": [
    "# Peek at labels\n",
    "print(y_val)"
   ]
  },
  {
   "cell_type": "code",
   "execution_count": 8,
   "metadata": {
    "colab": {
     "base_uri": "https://localhost:8080/"
    },
    "executionInfo": {
     "elapsed": 4,
     "status": "ok",
     "timestamp": 1623236070623,
     "user": {
      "displayName": "黃侯弼",
      "photoUrl": "",
      "userId": "02394864078410571973"
     },
     "user_tz": -480
    },
    "id": "nY3RGYbPDuC-",
    "outputId": "deded680-fc57-4da6-c054-a4648b5007eb"
   },
   "outputs": [
    {
     "name": "stdout",
     "output_type": "stream",
     "text": [
      "[ 5.  5. 10.  7.  5. 11.  4.  2. 10.  8.  3.  7.  3.  1.  8.  3.  3.  4.\n",
      " 10.  9.  7.  7.  2. 11.  5. 11.  4. 10.  0.  7. 11.  7.  9.  1.  6.  5.]\n"
     ]
    }
   ],
   "source": [
    "# Peek at labels after conversion\n",
    "print(y_test)"
   ]
  },
  {
   "cell_type": "code",
   "execution_count": 9,
   "metadata": {
    "colab": {
     "base_uri": "https://localhost:8080/"
    },
    "executionInfo": {
     "elapsed": 5,
     "status": "ok",
     "timestamp": 1623236071679,
     "user": {
      "displayName": "黃侯弼",
      "photoUrl": "",
      "userId": "02394864078410571973"
     },
     "user_tz": -480
    },
    "id": "8I1_x2yvDuC-",
    "outputId": "0d138400-6662-4175-8a1f-f640e3f2bf6d"
   },
   "outputs": [
    {
     "name": "stdout",
     "output_type": "stream",
     "text": [
      "(288, 16, 16)\n"
     ]
    }
   ],
   "source": [
    "# View the dimensions of our input data\n",
    "print(x_train.shape)"
   ]
  },
  {
   "cell_type": "code",
   "execution_count": 10,
   "metadata": {
    "colab": {
     "base_uri": "https://localhost:8080/"
    },
    "executionInfo": {
     "elapsed": 4,
     "status": "ok",
     "timestamp": 1623236072760,
     "user": {
      "displayName": "黃侯弼",
      "photoUrl": "",
      "userId": "02394864078410571973"
     },
     "user_tz": -480
    },
    "id": "i_zQsgz4DuC_",
    "outputId": "94a9c63d-7b06-4e8f-8c10-2aaab2aebe64"
   },
   "outputs": [
    {
     "name": "stdout",
     "output_type": "stream",
     "text": [
      "(288, 16, 16, 1)\n",
      "(36, 16, 16, 1)\n",
      "(36, 16, 16, 1)\n"
     ]
    }
   ],
   "source": [
    "# CNN for TF expects (batch, height, width, channels)\n",
    "# So we reshape the input tensors with a \"color\" channel of 1\n",
    "x_train = x_train.reshape(x_train.shape[0], \n",
    "                          x_train.shape[1], \n",
    "                          x_train.shape[2], \n",
    "                          1)\n",
    "x_val = x_val.reshape(x_val.shape[0], \n",
    "                      x_val.shape[1], \n",
    "                      x_val.shape[2], \n",
    "                      1)\n",
    "x_test = x_test.reshape(x_test.shape[0], \n",
    "                        x_test.shape[1], \n",
    "                        x_test.shape[2], \n",
    "                        1)\n",
    "print(x_train.shape)\n",
    "print(x_val.shape)\n",
    "print(x_test.shape)"
   ]
  },
  {
   "cell_type": "code",
   "execution_count": 11,
   "metadata": {
    "colab": {
     "base_uri": "https://localhost:8080/"
    },
    "executionInfo": {
     "elapsed": 281,
     "status": "ok",
     "timestamp": 1623236074651,
     "user": {
      "displayName": "黃侯弼",
      "photoUrl": "",
      "userId": "02394864078410571973"
     },
     "user_tz": -480
    },
    "id": "Ge2MCNusDuC_",
    "outputId": "7c995061-d01d-4a96-a14f-fbee6804b4d4"
   },
   "outputs": [
    {
     "name": "stdout",
     "output_type": "stream",
     "text": [
      "(16, 16, 1)\n"
     ]
    }
   ],
   "source": [
    "# Input shape for CNN is size of MFCC of 1 sample\n",
    "sample_shape = x_test.shape[1:]\n",
    "print(sample_shape)"
   ]
  },
  {
   "cell_type": "code",
   "execution_count": 12,
   "metadata": {
    "colab": {
     "base_uri": "https://localhost:8080/"
    },
    "executionInfo": {
     "elapsed": 264,
     "status": "ok",
     "timestamp": 1623237350948,
     "user": {
      "displayName": "黃侯弼",
      "photoUrl": "",
      "userId": "02394864078410571973"
     },
     "user_tz": -480
    },
    "id": "2JqUOHp9DuDA",
    "outputId": "cc676686-8778-47c0-d5eb-183d137369d2"
   },
   "outputs": [
    {
     "name": "stdout",
     "output_type": "stream",
     "text": [
      "Model: \"sequential\"\n",
      "_________________________________________________________________\n",
      "Layer (type)                 Output Shape              Param #   \n",
      "=================================================================\n",
      "conv2d (Conv2D)              (None, 15, 15, 32)        160       \n",
      "_________________________________________________________________\n",
      "max_pooling2d (MaxPooling2D) (None, 7, 7, 32)          0         \n",
      "_________________________________________________________________\n",
      "conv2d_1 (Conv2D)            (None, 6, 6, 32)          4128      \n",
      "_________________________________________________________________\n",
      "max_pooling2d_1 (MaxPooling2 (None, 3, 3, 32)          0         \n",
      "_________________________________________________________________\n",
      "conv2d_2 (Conv2D)            (None, 2, 2, 64)          8256      \n",
      "_________________________________________________________________\n",
      "max_pooling2d_2 (MaxPooling2 (None, 1, 1, 64)          0         \n",
      "_________________________________________________________________\n",
      "dropout (Dropout)            (None, 1, 1, 64)          0         \n",
      "_________________________________________________________________\n",
      "flatten (Flatten)            (None, 64)                0         \n",
      "_________________________________________________________________\n",
      "dense (Dense)                (None, 64)                4160      \n",
      "_________________________________________________________________\n",
      "dropout_1 (Dropout)          (None, 64)                0         \n",
      "_________________________________________________________________\n",
      "dense_1 (Dense)              (None, 12)                780       \n",
      "=================================================================\n",
      "Total params: 17,484\n",
      "Trainable params: 17,484\n",
      "Non-trainable params: 0\n",
      "_________________________________________________________________\n"
     ]
    }
   ],
   "source": [
    "model = models.Sequential()\n",
    "model.add(layers.Conv2D(32, (2, 2), activation='relu',input_shape=sample_shape))\n",
    "model.add(layers.MaxPooling2D(pool_size=(2, 2)))\n",
    "\n",
    "model.add(layers.Conv2D(32, (2, 2), activation='relu'))\n",
    "model.add(layers.MaxPooling2D(pool_size=(2, 2)))\n",
    "\n",
    "model.add(layers.Conv2D(64, (2, 2), activation='relu'))\n",
    "model.add(layers.MaxPooling2D(pool_size=(2, 2)))\n",
    "model.add(layers.Dropout(0.3))\n",
    "\n",
    "# Classifier\n",
    "model.add(layers.Flatten())\n",
    "model.add(layers.Dense(64, activation='relu'))\n",
    "model.add(layers.Dropout(0.5))\n",
    "model.add(layers.Dense(12, activation='softmax'))\n",
    "# Display model\n",
    "model.summary()\n"
   ]
  },
  {
   "cell_type": "code",
   "execution_count": 13,
   "metadata": {
    "colab": {
     "base_uri": "https://localhost:8080/"
    },
    "executionInfo": {
     "elapsed": 402,
     "status": "ok",
     "timestamp": 1623237353164,
     "user": {
      "displayName": "黃侯弼",
      "photoUrl": "",
      "userId": "02394864078410571973"
     },
     "user_tz": -480
    },
    "id": "sp5WfpkJDuDA",
    "outputId": "e7c65039-b132-4490-ce02-0897a4ca9bdc"
   },
   "outputs": [
    {
     "name": "stderr",
     "output_type": "stream",
     "text": [
      "/Users/Willie/opt/anaconda3/lib/python3.8/site-packages/tensorflow/python/keras/optimizer_v2/optimizer_v2.py:374: UserWarning: The `lr` argument is deprecated, use `learning_rate` instead.\n",
      "  warnings.warn(\n"
     ]
    }
   ],
   "source": [
    "from tensorflow.keras import optimizers\n",
    "# Add training parameters to model\n",
    "model.compile(loss='sparse_categorical_crossentropy', \n",
    "              optimizer=optimizers.Adam(lr=10e-4),    #'adam'\n",
    "              metrics=['acc'])"
   ]
  },
  {
   "cell_type": "code",
   "execution_count": 14,
   "metadata": {
    "colab": {
     "base_uri": "https://localhost:8080/"
    },
    "executionInfo": {
     "elapsed": 6626,
     "status": "ok",
     "timestamp": 1623237360783,
     "user": {
      "displayName": "黃侯弼",
      "photoUrl": "",
      "userId": "02394864078410571973"
     },
     "user_tz": -480
    },
    "id": "s46KMbZbDuDB",
    "outputId": "ff0b8470-8926-4dd5-bd90-db3c765b1d90",
    "scrolled": true
   },
   "outputs": [
    {
     "name": "stdout",
     "output_type": "stream",
     "text": [
      "Epoch 1/150\n",
      "15/15 [==============================] - 1s 23ms/step - loss: 3.3541 - acc: 0.0764 - val_loss: 2.4771 - val_acc: 0.1389\n",
      "Epoch 2/150\n",
      "15/15 [==============================] - 0s 7ms/step - loss: 2.5613 - acc: 0.0799 - val_loss: 2.4654 - val_acc: 0.1944\n",
      "Epoch 3/150\n",
      "15/15 [==============================] - 0s 8ms/step - loss: 2.4651 - acc: 0.1319 - val_loss: 2.4386 - val_acc: 0.1667\n",
      "Epoch 4/150\n",
      "15/15 [==============================] - 0s 9ms/step - loss: 2.4144 - acc: 0.1354 - val_loss: 2.3883 - val_acc: 0.2778\n",
      "Epoch 5/150\n",
      "15/15 [==============================] - 0s 10ms/step - loss: 2.3962 - acc: 0.1389 - val_loss: 2.3849 - val_acc: 0.1944\n",
      "Epoch 6/150\n",
      "15/15 [==============================] - 0s 8ms/step - loss: 2.3003 - acc: 0.1910 - val_loss: 2.2794 - val_acc: 0.2500\n",
      "Epoch 7/150\n",
      "15/15 [==============================] - 0s 11ms/step - loss: 2.2523 - acc: 0.2118 - val_loss: 2.1947 - val_acc: 0.3333\n",
      "Epoch 8/150\n",
      "15/15 [==============================] - 0s 11ms/step - loss: 2.2096 - acc: 0.2118 - val_loss: 2.1876 - val_acc: 0.3056\n",
      "Epoch 9/150\n",
      "15/15 [==============================] - 0s 11ms/step - loss: 2.1363 - acc: 0.2639 - val_loss: 2.1201 - val_acc: 0.2778\n",
      "Epoch 10/150\n",
      "15/15 [==============================] - 0s 11ms/step - loss: 2.0086 - acc: 0.3715 - val_loss: 1.9934 - val_acc: 0.3333\n",
      "Epoch 11/150\n",
      "15/15 [==============================] - 0s 11ms/step - loss: 1.9852 - acc: 0.3264 - val_loss: 1.9010 - val_acc: 0.3611\n",
      "Epoch 12/150\n",
      "15/15 [==============================] - 0s 12ms/step - loss: 1.9140 - acc: 0.3438 - val_loss: 1.9158 - val_acc: 0.3333\n",
      "Epoch 13/150\n",
      "15/15 [==============================] - 0s 12ms/step - loss: 1.8631 - acc: 0.3750 - val_loss: 1.7470 - val_acc: 0.3889\n",
      "Epoch 14/150\n",
      "15/15 [==============================] - 0s 12ms/step - loss: 1.7398 - acc: 0.3889 - val_loss: 1.7022 - val_acc: 0.3611\n",
      "Epoch 15/150\n",
      "15/15 [==============================] - 0s 11ms/step - loss: 1.6620 - acc: 0.3993 - val_loss: 1.5873 - val_acc: 0.4167\n",
      "Epoch 16/150\n",
      "15/15 [==============================] - 0s 12ms/step - loss: 1.6497 - acc: 0.4167 - val_loss: 1.6121 - val_acc: 0.3889\n",
      "Epoch 17/150\n",
      "15/15 [==============================] - 0s 17ms/step - loss: 1.5398 - acc: 0.4688 - val_loss: 1.4458 - val_acc: 0.5000\n",
      "Epoch 18/150\n",
      "15/15 [==============================] - 0s 14ms/step - loss: 1.4158 - acc: 0.5069 - val_loss: 1.4298 - val_acc: 0.5278\n",
      "Epoch 19/150\n",
      "15/15 [==============================] - 0s 17ms/step - loss: 1.4717 - acc: 0.5104 - val_loss: 1.3768 - val_acc: 0.5833\n",
      "Epoch 20/150\n",
      "15/15 [==============================] - 0s 12ms/step - loss: 1.3382 - acc: 0.5451 - val_loss: 1.3673 - val_acc: 0.5278\n",
      "Epoch 21/150\n",
      "15/15 [==============================] - 0s 18ms/step - loss: 1.3191 - acc: 0.5521 - val_loss: 1.2934 - val_acc: 0.6667\n",
      "Epoch 22/150\n",
      "15/15 [==============================] - 0s 11ms/step - loss: 1.3596 - acc: 0.5035 - val_loss: 1.1811 - val_acc: 0.6111\n",
      "Epoch 23/150\n",
      "15/15 [==============================] - 0s 12ms/step - loss: 1.2965 - acc: 0.5521 - val_loss: 1.2170 - val_acc: 0.7500\n",
      "Epoch 24/150\n",
      "15/15 [==============================] - 0s 12ms/step - loss: 1.1286 - acc: 0.5903 - val_loss: 1.1900 - val_acc: 0.6667\n",
      "Epoch 25/150\n",
      "15/15 [==============================] - 0s 9ms/step - loss: 1.1221 - acc: 0.6319 - val_loss: 1.0313 - val_acc: 0.7500\n",
      "Epoch 26/150\n",
      "15/15 [==============================] - 0s 12ms/step - loss: 1.1034 - acc: 0.5799 - val_loss: 0.9865 - val_acc: 0.8333\n",
      "Epoch 27/150\n",
      "15/15 [==============================] - 0s 12ms/step - loss: 1.0513 - acc: 0.6181 - val_loss: 1.0246 - val_acc: 0.6944\n",
      "Epoch 28/150\n",
      "15/15 [==============================] - 0s 12ms/step - loss: 1.0306 - acc: 0.6493 - val_loss: 0.9477 - val_acc: 0.6667\n",
      "Epoch 29/150\n",
      "15/15 [==============================] - 0s 12ms/step - loss: 0.9134 - acc: 0.6667 - val_loss: 0.8954 - val_acc: 0.8056\n",
      "Epoch 30/150\n",
      "15/15 [==============================] - 0s 12ms/step - loss: 0.9450 - acc: 0.6944 - val_loss: 0.8660 - val_acc: 0.8333\n",
      "Epoch 31/150\n",
      "15/15 [==============================] - 0s 23ms/step - loss: 0.9017 - acc: 0.6632 - val_loss: 0.8400 - val_acc: 0.8333\n",
      "Epoch 32/150\n",
      "15/15 [==============================] - 0s 13ms/step - loss: 0.8578 - acc: 0.7361 - val_loss: 0.9068 - val_acc: 0.8333\n",
      "Epoch 33/150\n",
      "15/15 [==============================] - 0s 10ms/step - loss: 0.8858 - acc: 0.7014 - val_loss: 0.7946 - val_acc: 0.8056\n",
      "Epoch 34/150\n",
      "15/15 [==============================] - 0s 14ms/step - loss: 0.8588 - acc: 0.6840 - val_loss: 0.7831 - val_acc: 0.8611\n",
      "Epoch 35/150\n",
      "15/15 [==============================] - 0s 18ms/step - loss: 0.7570 - acc: 0.7153 - val_loss: 0.9157 - val_acc: 0.6389\n",
      "Epoch 36/150\n",
      "15/15 [==============================] - 0s 18ms/step - loss: 0.7660 - acc: 0.7674 - val_loss: 0.7945 - val_acc: 0.8611\n",
      "Epoch 37/150\n",
      "15/15 [==============================] - 0s 16ms/step - loss: 0.6340 - acc: 0.7743 - val_loss: 0.6814 - val_acc: 0.8333\n",
      "Epoch 38/150\n",
      "15/15 [==============================] - 0s 13ms/step - loss: 0.7045 - acc: 0.7361 - val_loss: 0.7765 - val_acc: 0.8056\n",
      "Epoch 39/150\n",
      "15/15 [==============================] - 0s 15ms/step - loss: 0.6765 - acc: 0.7292 - val_loss: 0.7126 - val_acc: 0.8889\n",
      "Epoch 40/150\n",
      "15/15 [==============================] - 0s 17ms/step - loss: 0.6627 - acc: 0.7604 - val_loss: 0.6434 - val_acc: 0.8611\n",
      "Epoch 41/150\n",
      "15/15 [==============================] - 0s 13ms/step - loss: 0.5983 - acc: 0.7986 - val_loss: 0.5920 - val_acc: 0.8333\n",
      "Epoch 42/150\n",
      "15/15 [==============================] - 0s 12ms/step - loss: 0.5859 - acc: 0.7812 - val_loss: 0.7162 - val_acc: 0.8611\n",
      "Epoch 43/150\n",
      "15/15 [==============================] - 0s 14ms/step - loss: 0.5781 - acc: 0.8021 - val_loss: 0.6545 - val_acc: 0.8889\n",
      "Epoch 44/150\n",
      "15/15 [==============================] - 0s 11ms/step - loss: 0.5227 - acc: 0.7882 - val_loss: 0.7205 - val_acc: 0.8889\n",
      "Epoch 45/150\n",
      "15/15 [==============================] - 0s 11ms/step - loss: 0.5678 - acc: 0.8160 - val_loss: 0.5694 - val_acc: 0.8611\n",
      "Epoch 46/150\n",
      "15/15 [==============================] - 0s 9ms/step - loss: 0.4595 - acc: 0.8542 - val_loss: 0.6436 - val_acc: 0.8611\n",
      "Epoch 47/150\n",
      "15/15 [==============================] - 0s 14ms/step - loss: 0.5056 - acc: 0.8229 - val_loss: 0.6077 - val_acc: 0.8056\n",
      "Epoch 48/150\n",
      "15/15 [==============================] - 0s 13ms/step - loss: 0.5076 - acc: 0.8403 - val_loss: 0.5624 - val_acc: 0.8611\n",
      "Epoch 49/150\n",
      "15/15 [==============================] - 0s 12ms/step - loss: 0.5190 - acc: 0.8299 - val_loss: 0.6024 - val_acc: 0.8889\n",
      "Epoch 50/150\n",
      "15/15 [==============================] - 0s 11ms/step - loss: 0.4324 - acc: 0.8264 - val_loss: 0.5913 - val_acc: 0.8889\n",
      "Epoch 51/150\n",
      "15/15 [==============================] - 0s 10ms/step - loss: 0.4528 - acc: 0.8403 - val_loss: 0.4365 - val_acc: 0.9444\n",
      "Epoch 52/150\n",
      "15/15 [==============================] - 0s 10ms/step - loss: 0.4212 - acc: 0.8681 - val_loss: 0.6429 - val_acc: 0.8611\n",
      "Epoch 53/150\n",
      "15/15 [==============================] - 0s 11ms/step - loss: 0.4535 - acc: 0.8576 - val_loss: 0.5109 - val_acc: 0.8889\n",
      "Epoch 54/150\n",
      "15/15 [==============================] - 0s 10ms/step - loss: 0.4679 - acc: 0.8368 - val_loss: 0.6441 - val_acc: 0.8611\n",
      "Epoch 55/150\n",
      "15/15 [==============================] - 0s 10ms/step - loss: 0.3635 - acc: 0.8819 - val_loss: 0.6754 - val_acc: 0.8889\n",
      "Epoch 56/150\n",
      "15/15 [==============================] - 0s 10ms/step - loss: 0.3722 - acc: 0.8819 - val_loss: 0.6330 - val_acc: 0.8889\n",
      "Epoch 57/150\n",
      "15/15 [==============================] - 0s 9ms/step - loss: 0.3715 - acc: 0.8576 - val_loss: 0.6463 - val_acc: 0.8889\n",
      "Epoch 58/150\n",
      "15/15 [==============================] - 0s 10ms/step - loss: 0.4592 - acc: 0.8368 - val_loss: 0.5953 - val_acc: 0.8889\n",
      "Epoch 59/150\n",
      "15/15 [==============================] - 0s 12ms/step - loss: 0.3792 - acc: 0.8542 - val_loss: 0.5615 - val_acc: 0.8889\n",
      "Epoch 60/150\n",
      "15/15 [==============================] - 0s 10ms/step - loss: 0.3020 - acc: 0.8958 - val_loss: 0.6731 - val_acc: 0.7500\n",
      "Epoch 61/150\n",
      "15/15 [==============================] - 0s 16ms/step - loss: 0.3528 - acc: 0.8611 - val_loss: 0.5497 - val_acc: 0.8889\n",
      "Epoch 62/150\n",
      "15/15 [==============================] - 0s 10ms/step - loss: 0.3576 - acc: 0.8750 - val_loss: 0.5575 - val_acc: 0.9167\n"
     ]
    },
    {
     "name": "stdout",
     "output_type": "stream",
     "text": [
      "Epoch 63/150\n",
      "15/15 [==============================] - 0s 15ms/step - loss: 0.2971 - acc: 0.9062 - val_loss: 0.5505 - val_acc: 0.8889\n",
      "Epoch 64/150\n",
      "15/15 [==============================] - 0s 11ms/step - loss: 0.3013 - acc: 0.8993 - val_loss: 0.5945 - val_acc: 0.8611\n",
      "Epoch 65/150\n",
      "15/15 [==============================] - 0s 12ms/step - loss: 0.3201 - acc: 0.8576 - val_loss: 0.4386 - val_acc: 0.8889\n",
      "Epoch 66/150\n",
      "15/15 [==============================] - 0s 13ms/step - loss: 0.3015 - acc: 0.9097 - val_loss: 0.6652 - val_acc: 0.8333\n",
      "Epoch 67/150\n",
      "15/15 [==============================] - 0s 10ms/step - loss: 0.2645 - acc: 0.8993 - val_loss: 0.5536 - val_acc: 0.8889\n",
      "Epoch 68/150\n",
      "15/15 [==============================] - 0s 8ms/step - loss: 0.2979 - acc: 0.8924 - val_loss: 0.5324 - val_acc: 0.8889\n",
      "Epoch 69/150\n",
      "15/15 [==============================] - 0s 11ms/step - loss: 0.3083 - acc: 0.8924 - val_loss: 0.5252 - val_acc: 0.8611\n",
      "Epoch 70/150\n",
      "15/15 [==============================] - 0s 12ms/step - loss: 0.3409 - acc: 0.8889 - val_loss: 0.6425 - val_acc: 0.8056\n",
      "Epoch 71/150\n",
      "15/15 [==============================] - 0s 13ms/step - loss: 0.3085 - acc: 0.9028 - val_loss: 0.5319 - val_acc: 0.8333\n",
      "Epoch 72/150\n",
      "15/15 [==============================] - 0s 10ms/step - loss: 0.2901 - acc: 0.8993 - val_loss: 0.5591 - val_acc: 0.8611\n",
      "Epoch 73/150\n",
      "15/15 [==============================] - 0s 11ms/step - loss: 0.3215 - acc: 0.8681 - val_loss: 0.5632 - val_acc: 0.8889\n",
      "Epoch 74/150\n",
      "15/15 [==============================] - 0s 12ms/step - loss: 0.2674 - acc: 0.9097 - val_loss: 0.5451 - val_acc: 0.8889\n",
      "Epoch 75/150\n",
      "15/15 [==============================] - 0s 13ms/step - loss: 0.2589 - acc: 0.9132 - val_loss: 0.4545 - val_acc: 0.8889\n",
      "Epoch 76/150\n",
      "15/15 [==============================] - 0s 14ms/step - loss: 0.2915 - acc: 0.8889 - val_loss: 0.7058 - val_acc: 0.8611\n",
      "Epoch 77/150\n",
      "15/15 [==============================] - 0s 11ms/step - loss: 0.2312 - acc: 0.9132 - val_loss: 0.4947 - val_acc: 0.8889\n",
      "Epoch 78/150\n",
      "15/15 [==============================] - 0s 10ms/step - loss: 0.2725 - acc: 0.8958 - val_loss: 0.4861 - val_acc: 0.8889\n",
      "Epoch 79/150\n",
      "15/15 [==============================] - 0s 12ms/step - loss: 0.1986 - acc: 0.9271 - val_loss: 0.5862 - val_acc: 0.8611\n",
      "Epoch 80/150\n",
      "15/15 [==============================] - 0s 12ms/step - loss: 0.2537 - acc: 0.9028 - val_loss: 0.5610 - val_acc: 0.8889\n",
      "Epoch 81/150\n",
      "15/15 [==============================] - 0s 15ms/step - loss: 0.2826 - acc: 0.9097 - val_loss: 0.5581 - val_acc: 0.8889\n",
      "Epoch 82/150\n",
      "15/15 [==============================] - 0s 13ms/step - loss: 0.2516 - acc: 0.9097 - val_loss: 0.5461 - val_acc: 0.8889\n",
      "Epoch 83/150\n",
      "15/15 [==============================] - 0s 9ms/step - loss: 0.2586 - acc: 0.9028 - val_loss: 0.7391 - val_acc: 0.8611\n",
      "Epoch 84/150\n",
      "15/15 [==============================] - 0s 9ms/step - loss: 0.1730 - acc: 0.9375 - val_loss: 0.4022 - val_acc: 0.8611\n",
      "Epoch 85/150\n",
      "15/15 [==============================] - 0s 9ms/step - loss: 0.2170 - acc: 0.9236 - val_loss: 0.5469 - val_acc: 0.8889\n",
      "Epoch 86/150\n",
      "15/15 [==============================] - 0s 10ms/step - loss: 0.2174 - acc: 0.9132 - val_loss: 0.4748 - val_acc: 0.8889\n",
      "Epoch 87/150\n",
      "15/15 [==============================] - 0s 14ms/step - loss: 0.2091 - acc: 0.9271 - val_loss: 0.4164 - val_acc: 0.9167\n",
      "Epoch 88/150\n",
      "15/15 [==============================] - 0s 11ms/step - loss: 0.1778 - acc: 0.9444 - val_loss: 0.5904 - val_acc: 0.8889\n",
      "Epoch 89/150\n",
      "15/15 [==============================] - 0s 12ms/step - loss: 0.2041 - acc: 0.9306 - val_loss: 0.5114 - val_acc: 0.8889\n",
      "Epoch 90/150\n",
      "15/15 [==============================] - 0s 13ms/step - loss: 0.1578 - acc: 0.9514 - val_loss: 0.7465 - val_acc: 0.8889\n",
      "Epoch 91/150\n",
      "15/15 [==============================] - 0s 15ms/step - loss: 0.1844 - acc: 0.9340 - val_loss: 0.5039 - val_acc: 0.8889\n",
      "Epoch 92/150\n",
      "15/15 [==============================] - 0s 15ms/step - loss: 0.1887 - acc: 0.9340 - val_loss: 0.5225 - val_acc: 0.9167\n",
      "Epoch 93/150\n",
      "15/15 [==============================] - 0s 11ms/step - loss: 0.1705 - acc: 0.9410 - val_loss: 0.5393 - val_acc: 0.9167\n",
      "Epoch 94/150\n",
      "15/15 [==============================] - 0s 15ms/step - loss: 0.1662 - acc: 0.9549 - val_loss: 0.5304 - val_acc: 0.8889\n",
      "Epoch 95/150\n",
      "15/15 [==============================] - 0s 12ms/step - loss: 0.1603 - acc: 0.9549 - val_loss: 0.4391 - val_acc: 0.9444\n",
      "Epoch 96/150\n",
      "15/15 [==============================] - 0s 11ms/step - loss: 0.1593 - acc: 0.9444 - val_loss: 0.7026 - val_acc: 0.8611\n",
      "Epoch 97/150\n",
      "15/15 [==============================] - 0s 12ms/step - loss: 0.2020 - acc: 0.9236 - val_loss: 0.4856 - val_acc: 0.9167\n",
      "Epoch 98/150\n",
      "15/15 [==============================] - 0s 15ms/step - loss: 0.1186 - acc: 0.9618 - val_loss: 0.5160 - val_acc: 0.9167\n",
      "Epoch 99/150\n",
      "15/15 [==============================] - 0s 13ms/step - loss: 0.1614 - acc: 0.9444 - val_loss: 0.6542 - val_acc: 0.8611\n",
      "Epoch 100/150\n",
      "15/15 [==============================] - 0s 19ms/step - loss: 0.0920 - acc: 0.9722 - val_loss: 0.4175 - val_acc: 0.9167\n",
      "Epoch 101/150\n",
      "15/15 [==============================] - 0s 13ms/step - loss: 0.1721 - acc: 0.9410 - val_loss: 0.4750 - val_acc: 0.9167\n",
      "Epoch 102/150\n",
      "15/15 [==============================] - 0s 8ms/step - loss: 0.2144 - acc: 0.9340 - val_loss: 0.4524 - val_acc: 0.9167\n",
      "Epoch 103/150\n",
      "15/15 [==============================] - 0s 13ms/step - loss: 0.2309 - acc: 0.9132 - val_loss: 0.5131 - val_acc: 0.8889\n",
      "Epoch 104/150\n",
      "15/15 [==============================] - 0s 13ms/step - loss: 0.1428 - acc: 0.9618 - val_loss: 0.5818 - val_acc: 0.8611\n",
      "Epoch 105/150\n",
      "15/15 [==============================] - 0s 12ms/step - loss: 0.1651 - acc: 0.9549 - val_loss: 0.6937 - val_acc: 0.8611\n",
      "Epoch 106/150\n",
      "15/15 [==============================] - 0s 10ms/step - loss: 0.1540 - acc: 0.9583 - val_loss: 0.6359 - val_acc: 0.7778\n",
      "Epoch 107/150\n",
      "15/15 [==============================] - 0s 11ms/step - loss: 0.2090 - acc: 0.9167 - val_loss: 0.7632 - val_acc: 0.8611\n",
      "Epoch 108/150\n",
      "15/15 [==============================] - 0s 15ms/step - loss: 0.1786 - acc: 0.9375 - val_loss: 0.4360 - val_acc: 0.9167\n",
      "Epoch 109/150\n",
      "15/15 [==============================] - 0s 11ms/step - loss: 0.1584 - acc: 0.9479 - val_loss: 0.7441 - val_acc: 0.8889\n",
      "Epoch 110/150\n",
      "15/15 [==============================] - 0s 11ms/step - loss: 0.2149 - acc: 0.9271 - val_loss: 0.4324 - val_acc: 0.9167\n",
      "Epoch 111/150\n",
      "15/15 [==============================] - 0s 8ms/step - loss: 0.1122 - acc: 0.9618 - val_loss: 0.4987 - val_acc: 0.9444\n",
      "Epoch 112/150\n",
      "15/15 [==============================] - 0s 8ms/step - loss: 0.1672 - acc: 0.9514 - val_loss: 0.5075 - val_acc: 0.9167\n",
      "Epoch 113/150\n",
      "15/15 [==============================] - 0s 12ms/step - loss: 0.1430 - acc: 0.9549 - val_loss: 0.4569 - val_acc: 0.9444\n",
      "Epoch 114/150\n",
      "15/15 [==============================] - 0s 8ms/step - loss: 0.1456 - acc: 0.9514 - val_loss: 0.5251 - val_acc: 0.9444\n",
      "Epoch 115/150\n",
      "15/15 [==============================] - 0s 11ms/step - loss: 0.1347 - acc: 0.9549 - val_loss: 0.5257 - val_acc: 0.9167\n",
      "Epoch 116/150\n",
      "15/15 [==============================] - 0s 9ms/step - loss: 0.1317 - acc: 0.9618 - val_loss: 0.6956 - val_acc: 0.8611\n",
      "Epoch 117/150\n",
      "15/15 [==============================] - 0s 9ms/step - loss: 0.1320 - acc: 0.9653 - val_loss: 0.6238 - val_acc: 0.9167\n",
      "Epoch 118/150\n",
      "15/15 [==============================] - 0s 11ms/step - loss: 0.1238 - acc: 0.9618 - val_loss: 0.7325 - val_acc: 0.8611\n",
      "Epoch 119/150\n",
      "15/15 [==============================] - 0s 11ms/step - loss: 0.1551 - acc: 0.9375 - val_loss: 0.5401 - val_acc: 0.8889\n",
      "Epoch 120/150\n",
      "15/15 [==============================] - 0s 13ms/step - loss: 0.1589 - acc: 0.9375 - val_loss: 0.8476 - val_acc: 0.8611\n",
      "Epoch 121/150\n",
      "15/15 [==============================] - 0s 16ms/step - loss: 0.1062 - acc: 0.9688 - val_loss: 0.6177 - val_acc: 0.8889\n",
      "Epoch 122/150\n",
      "15/15 [==============================] - 0s 13ms/step - loss: 0.1157 - acc: 0.9514 - val_loss: 0.6750 - val_acc: 0.8889\n",
      "Epoch 123/150\n",
      "15/15 [==============================] - 0s 9ms/step - loss: 0.1281 - acc: 0.9549 - val_loss: 0.7237 - val_acc: 0.8889\n",
      "Epoch 124/150\n"
     ]
    },
    {
     "name": "stdout",
     "output_type": "stream",
     "text": [
      "15/15 [==============================] - 0s 8ms/step - loss: 0.1184 - acc: 0.9653 - val_loss: 0.4965 - val_acc: 0.9444\n",
      "Epoch 125/150\n",
      "15/15 [==============================] - 0s 8ms/step - loss: 0.1256 - acc: 0.9583 - val_loss: 0.6746 - val_acc: 0.8889\n",
      "Epoch 126/150\n",
      "15/15 [==============================] - 0s 6ms/step - loss: 0.1175 - acc: 0.9618 - val_loss: 0.5351 - val_acc: 0.9167\n",
      "Epoch 127/150\n",
      "15/15 [==============================] - 0s 7ms/step - loss: 0.2110 - acc: 0.9375 - val_loss: 0.9921 - val_acc: 0.8611\n",
      "Epoch 128/150\n",
      "15/15 [==============================] - 0s 8ms/step - loss: 0.1958 - acc: 0.9340 - val_loss: 0.5596 - val_acc: 0.8611\n",
      "Epoch 129/150\n",
      "15/15 [==============================] - 0s 8ms/step - loss: 0.1643 - acc: 0.9479 - val_loss: 0.7110 - val_acc: 0.8056\n",
      "Epoch 130/150\n",
      "15/15 [==============================] - 0s 13ms/step - loss: 0.1774 - acc: 0.9618 - val_loss: 0.8248 - val_acc: 0.8333\n",
      "Epoch 131/150\n",
      "15/15 [==============================] - 0s 12ms/step - loss: 0.2629 - acc: 0.9097 - val_loss: 0.5903 - val_acc: 0.8889\n",
      "Epoch 132/150\n",
      "15/15 [==============================] - 0s 9ms/step - loss: 0.1985 - acc: 0.9271 - val_loss: 0.5200 - val_acc: 0.9167\n",
      "Epoch 133/150\n",
      "15/15 [==============================] - 0s 9ms/step - loss: 0.1638 - acc: 0.9479 - val_loss: 0.4535 - val_acc: 0.8333\n",
      "Epoch 134/150\n",
      "15/15 [==============================] - 0s 10ms/step - loss: 0.1978 - acc: 0.9271 - val_loss: 0.6512 - val_acc: 0.8889\n",
      "Epoch 135/150\n",
      "15/15 [==============================] - 0s 9ms/step - loss: 0.1330 - acc: 0.9549 - val_loss: 0.5769 - val_acc: 0.8889\n",
      "Epoch 136/150\n",
      "15/15 [==============================] - 0s 8ms/step - loss: 0.1143 - acc: 0.9653 - val_loss: 0.5518 - val_acc: 0.9167\n",
      "Epoch 137/150\n",
      "15/15 [==============================] - 0s 14ms/step - loss: 0.1007 - acc: 0.9618 - val_loss: 0.5011 - val_acc: 0.9167\n",
      "Epoch 138/150\n",
      "15/15 [==============================] - 0s 13ms/step - loss: 0.1358 - acc: 0.9549 - val_loss: 0.4736 - val_acc: 0.9167\n",
      "Epoch 139/150\n",
      "15/15 [==============================] - 0s 10ms/step - loss: 0.1388 - acc: 0.9653 - val_loss: 0.5050 - val_acc: 0.9167\n",
      "Epoch 140/150\n",
      "15/15 [==============================] - 0s 9ms/step - loss: 0.1270 - acc: 0.9826 - val_loss: 0.4816 - val_acc: 0.9444\n",
      "Epoch 141/150\n",
      "15/15 [==============================] - 0s 9ms/step - loss: 0.0967 - acc: 0.9757 - val_loss: 0.5319 - val_acc: 0.9167\n",
      "Epoch 142/150\n",
      "15/15 [==============================] - 0s 11ms/step - loss: 0.1014 - acc: 0.9653 - val_loss: 0.4770 - val_acc: 0.9167\n",
      "Epoch 143/150\n",
      "15/15 [==============================] - 0s 11ms/step - loss: 0.1152 - acc: 0.9722 - val_loss: 0.8577 - val_acc: 0.8611\n",
      "Epoch 144/150\n",
      "15/15 [==============================] - 0s 12ms/step - loss: 0.1719 - acc: 0.9375 - val_loss: 0.4238 - val_acc: 0.9444\n",
      "Epoch 145/150\n",
      "15/15 [==============================] - 0s 15ms/step - loss: 0.1150 - acc: 0.9826 - val_loss: 0.6406 - val_acc: 0.9167\n",
      "Epoch 146/150\n",
      "15/15 [==============================] - 0s 12ms/step - loss: 0.1221 - acc: 0.9722 - val_loss: 0.3640 - val_acc: 0.9722\n",
      "Epoch 147/150\n",
      "15/15 [==============================] - 0s 14ms/step - loss: 0.1223 - acc: 0.9618 - val_loss: 0.5100 - val_acc: 0.9167\n",
      "Epoch 148/150\n",
      "15/15 [==============================] - 0s 12ms/step - loss: 0.1335 - acc: 0.9479 - val_loss: 0.5741 - val_acc: 0.8889\n",
      "Epoch 149/150\n",
      "15/15 [==============================] - 0s 11ms/step - loss: 0.0959 - acc: 0.9653 - val_loss: 0.4195 - val_acc: 0.9444\n",
      "Epoch 150/150\n",
      "15/15 [==============================] - 0s 10ms/step - loss: 0.1203 - acc: 0.9549 - val_loss: 0.3885 - val_acc: 0.9444\n"
     ]
    }
   ],
   "source": [
    "# Train\n",
    "history = model.fit(x_train, \n",
    "                    y_train, \n",
    "                    epochs=150, \n",
    "                    batch_size=20, \n",
    "                    validation_data=(x_val, y_val))"
   ]
  },
  {
   "cell_type": "code",
   "execution_count": 15,
   "metadata": {
    "colab": {
     "base_uri": "https://localhost:8080/",
     "height": 545
    },
    "executionInfo": {
     "elapsed": 1003,
     "status": "ok",
     "timestamp": 1623237367971,
     "user": {
      "displayName": "黃侯弼",
      "photoUrl": "",
      "userId": "02394864078410571973"
     },
     "user_tz": -480
    },
    "id": "UHFvFGu9DuDB",
    "outputId": "d91020e9-a37e-47d8-c204-00bf612c2908"
   },
   "outputs": [
    {
     "data": {
      "image/png": "[encoded data removed]",
      "text/plain": [
       "<Figure size 432x288 with 1 Axes>"
      ]
     },
     "metadata": {
      "needs_background": "light"
     },
     "output_type": "display_data"
    },
    {
     "data": {
      "image/png": "[encoded data removed]",
      "text/plain": [
       "<Figure size 432x288 with 1 Axes>"
      ]
     },
     "metadata": {
      "needs_background": "light"
     },
     "output_type": "display_data"
    }
   ],
   "source": [
    "# Plot results\n",
    "import matplotlib.pyplot as plt\n",
    "\n",
    "acc = history.history['acc']\n",
    "val_acc = history.history['val_acc']\n",
    "loss = history.history['loss']\n",
    "val_loss = history.history['val_loss']\n",
    "\n",
    "epochs = range(1, len(acc) + 1)\n",
    "\n",
    "plt.plot(epochs, acc, 'bo', label='Training acc')\n",
    "plt.plot(epochs, val_acc, 'b', label='Validation acc')\n",
    "plt.title('Training and validation accuracy')\n",
    "plt.legend()\n",
    "\n",
    "plt.figure()\n",
    "\n",
    "plt.plot(epochs, loss, 'bo', label='Training loss')\n",
    "plt.plot(epochs, val_loss, 'b', label='Validation loss')\n",
    "plt.title('Training and validation loss')\n",
    "plt.legend()\n",
    "\n",
    "plt.show()"
   ]
  },
  {
   "cell_type": "code",
   "execution_count": 16,
   "metadata": {
    "executionInfo": {
     "elapsed": 263,
     "status": "ok",
     "timestamp": 1623237370995,
     "user": {
      "displayName": "黃侯弼",
      "photoUrl": "",
      "userId": "02394864078410571973"
     },
     "user_tz": -480
    },
    "id": "mKcsAPK-DuDB"
   },
   "outputs": [],
   "source": [
    "# Save the model as a file\n",
    "models.save_model(model, '/Users/Willie/Test1.h5')"
   ]
  },
  {
   "cell_type": "code",
   "execution_count": 17,
   "metadata": {
    "colab": {
     "base_uri": "https://localhost:8080/"
    },
    "executionInfo": {
     "elapsed": 774,
     "status": "ok",
     "timestamp": 1623237372852,
     "user": {
      "displayName": "黃侯弼",
      "photoUrl": "",
      "userId": "02394864078410571973"
     },
     "user_tz": -480
    },
    "id": "rOAEZ7PKDuDC",
    "outputId": "ec42e9de-9b6c-4269-b804-bd8df580acf4"
   },
   "outputs": [
    {
     "name": "stdout",
     "output_type": "stream",
     "text": [
      "Answer: 5.0  Prediction: [[9.6249132e-04 3.7006766e-04 1.3819223e-03 1.6965561e-03 8.7117939e-04\n",
      "  9.2368376e-01 5.4845000e-03 9.6077593e-03 2.2788137e-02 2.0113017e-03\n",
      "  1.0790875e-03 3.0063123e-02]]\n",
      "Answer: 5.0  Prediction: [[1.0390593e-06 8.1772072e-08 5.1425832e-09 1.7882341e-07 7.8025704e-07\n",
      "  9.9989903e-01 1.8793100e-05 7.0928952e-05 5.2705923e-06 3.4566012e-06\n",
      "  3.0484564e-08 2.4968736e-07]]\n",
      "Answer: 10.0  Prediction: [[4.4289604e-03 1.6521271e-05 5.2040386e-01 6.0813021e-02 7.5189313e-03\n",
      "  2.1043958e-04 4.3443792e-06 4.0525672e-01 1.6743523e-05 1.0582409e-05\n",
      "  2.2039245e-04 1.0995662e-03]]\n",
      "Answer: 7.0  Prediction: [[1.9871660e-10 4.7312132e-09 3.6134862e-04 5.4845655e-06 1.0197774e-09\n",
      "  2.0865500e-08 1.9511568e-09 9.9943596e-01 1.0408720e-07 4.7793219e-12\n",
      "  5.1215334e-11 1.9710686e-04]]\n",
      "Answer: 5.0  Prediction: [[4.1841988e-09 1.5658141e-11 4.7335505e-15 3.6030796e-12 2.0140379e-11\n",
      "  9.9999952e-01 7.8006877e-08 4.2716974e-10 6.4052863e-08 3.1781806e-07\n",
      "  2.7843106e-10 3.1978971e-09]]\n"
     ]
    }
   ],
   "source": [
    "# TEST: Load model and run it against test set\n",
    "model = models.load_model('/Users/Willie/Test1.h5')\n",
    "for i in range(0, 5):\n",
    "    print('Answer:', y_test[i], ' Prediction:', model.predict(np.expand_dims(x_test[i], 0)))"
   ]
  },
  {
   "cell_type": "code",
   "execution_count": 18,
   "metadata": {
    "colab": {
     "base_uri": "https://localhost:8080/"
    },
    "executionInfo": {
     "elapsed": 257,
     "status": "ok",
     "timestamp": 1623237375540,
     "user": {
      "displayName": "黃侯弼",
      "photoUrl": "",
      "userId": "02394864078410571973"
     },
     "user_tz": -480
    },
    "id": "F2N7VEDnDuDC",
    "outputId": "76a7172d-b0aa-46a9-c7fb-45f582e96cb6",
    "scrolled": true
   },
   "outputs": [
    {
     "name": "stdout",
     "output_type": "stream",
     "text": [
      "2/2 [==============================] - 0s 3ms/step - loss: 0.5446 - acc: 0.8889\n"
     ]
    },
    {
     "data": {
      "text/plain": [
       "[0.5445926189422607, 0.8888888955116272]"
      ]
     },
     "execution_count": 18,
     "metadata": {},
     "output_type": "execute_result"
    }
   ],
   "source": [
    "# Evaluate model with test set\n",
    "model.evaluate(x=x_test, y=y_test)"
   ]
  },
  {
   "cell_type": "code",
   "execution_count": null,
   "metadata": {},
   "outputs": [],
   "source": []
  }
 ],
 "metadata": {
  "accelerator": "GPU",
  "colab": {
   "collapsed_sections": [],
   "name": "Classifier.ipynb",
   "provenance": []
  },
  "kernelspec": {
   "display_name": "Python 3",
   "language": "python",
   "name": "python3"
  },
  "language_info": {
   "codemirror_mode": {
    "name": "ipython",
    "version": 3
   },
   "file_extension": ".py",
   "mimetype": "text/x-python",
   "name": "python",
   "nbconvert_exporter": "python",
   "pygments_lexer": "ipython3",
   "version": "3.8.5"
  }
 },
 "nbformat": 4,
 "nbformat_minor": 1
}
